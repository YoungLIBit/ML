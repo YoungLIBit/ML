{
  "nbformat": 4,
  "nbformat_minor": 0,
  "metadata": {
    "colab": {
      "provenance": [],
      "authorship_tag": "ABX9TyMwfhANMKGa7LIDgNoPafjy",
      "include_colab_link": true
    },
    "kernelspec": {
      "name": "python3",
      "display_name": "Python 3"
    },
    "language_info": {
      "name": "python"
    }
  },
  "cells": [
    {
      "cell_type": "markdown",
      "metadata": {
        "id": "view-in-github",
        "colab_type": "text"
      },
      "source": [
        "<a href=\"https://colab.research.google.com/github/YoungLIBit/ML/blob/main/Untitled0.ipynb\" target=\"_parent\"><img src=\"https://colab.research.google.com/assets/colab-badge.svg\" alt=\"Open In Colab\"/></a>"
      ]
    },
    {
      "cell_type": "code",
      "source": [
        "n = int(input(\"Nhập vào n \"));\n",
        "L = [];\n",
        "for i in range(n):\n",
        "  x = int(input(\"Enter x\" + str(i + 1) + \" \"));\n",
        "  L.append(x);\n",
        "\n",
        "print(\"Số nhỏ nhất trong mảng: \" + str(min(L)));\n",
        "print(\"Số lớn nhất trong mảng: \" + str(max(L)));\n",
        "print(\"Tổng giá trị phần tử trong mảng: \" + str(sum(L)));\n",
        "\n",
        "pos = 0;\n",
        "nev = 0;\n",
        "for i in L:\n",
        "  if(i > 0):\n",
        "    pos +=1;\n",
        "  else:\n",
        "    nev +=1;\n",
        "\n",
        "print(\"Tổng số dương: \" + str(pos));\n",
        "print(\"Tổng số âm: \" + str(nev));"
      ],
      "metadata": {
        "colab": {
          "base_uri": "https://localhost:8080/"
        },
        "id": "brYpu7Fiv1nx",
        "outputId": "0e07d20e-56bb-41b2-f184-4ac8597207ea"
      },
      "execution_count": null,
      "outputs": [
        {
          "output_type": "stream",
          "name": "stdout",
          "text": [
            "Nhập vào n 4\n",
            "Enter x1 3\n",
            "Enter x2 4\n",
            "Enter x3 -4\n",
            "Enter x4 -5\n",
            "Số nhỏ nhất trong mảng: -5\n",
            "Số lớn nhất trong mảng: 4\n",
            "Tổng giá trị phần tử trong mảng: -2\n",
            "Tổng số dương: 2\n",
            "Tổng số âm: 2\n"
          ]
        }
      ]
    },
    {
      "cell_type": "code",
      "source": [
        "\n",
        "def S(n):\n",
        "  if ( n==1):\n",
        "    return 1;\n",
        "  else:\n",
        "    return  S(n - 1) + M(n);\n",
        "\n",
        "def M(n):\n",
        "  if(n == 0):\n",
        "    return 1;\n",
        "  else:\n",
        "    return n * M(n - 1);\n",
        "n = int(input(\"Enter n\"));\n",
        "print(S(n));"
      ],
      "metadata": {
        "id": "8WL-ZcOCv15x",
        "colab": {
          "base_uri": "https://localhost:8080/"
        },
        "outputId": "9dd15cb8-0c7c-472b-83a3-8f8d216f7662"
      },
      "execution_count": 51,
      "outputs": [
        {
          "output_type": "stream",
          "name": "stdout",
          "text": [
            "Enter n4\n",
            "33\n"
          ]
        }
      ]
    },
    {
      "cell_type": "markdown",
      "source": [
        "1 + 1 * 2 + 1 * 2 * 3 + 1 * 2 * 4 *3"
      ],
      "metadata": {
        "id": "HnELzU1OsRVq"
      }
    }
  ]
}
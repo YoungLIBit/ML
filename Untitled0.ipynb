{
  "nbformat": 4,
  "nbformat_minor": 0,
  "metadata": {
    "colab": {
      "provenance": [],
      "authorship_tag": "ABX9TyMLSXsFPiMIMuK3u5I3Rt/X",
      "include_colab_link": true
    },
    "kernelspec": {
      "name": "python3",
      "display_name": "Python 3"
    },
    "language_info": {
      "name": "python"
    }
  },
  "cells": [
    {
      "cell_type": "markdown",
      "metadata": {
        "id": "view-in-github",
        "colab_type": "text"
      },
      "source": [
        "<a href=\"https://colab.research.google.com/github/YoungLIBit/ML/blob/main/Untitled0.ipynb\" target=\"_parent\"><img src=\"https://colab.research.google.com/assets/colab-badge.svg\" alt=\"Open In Colab\"/></a>"
      ]
    },
    {
      "cell_type": "code",
      "source": [
        "n = int(input(\"Nhập vào n \"));\n",
        "L = [];\n",
        "for i in range(n):\n",
        "  x = int(input(\"Enter x\" + str(i + 1) + \" \"));\n",
        "  L.append(x);\n",
        "\n",
        "print(\"Số nhỏ nhất trong mảng: \" + str(min(L)));\n",
        "print(\"Số lớn nhất trong mảng: \" + str(max(L)));\n",
        "print(\"Tổng giá trị phần tử trong mảng: \" + str(sum(L)));\n",
        "\n",
        "pos = 0;\n",
        "nev = 0;\n",
        "for i in L:\n",
        "  if(i > 0):\n",
        "    pos +=1;\n",
        "  else:\n",
        "    nev +=1;\n",
        "\n",
        "print(\"Tổng số dương: \" + str(pos));\n",
        "print(\"Tổng số âm: \" + str(nev));"
      ],
      "metadata": {
        "colab": {
          "base_uri": "https://localhost:8080/"
        },
        "id": "brYpu7Fiv1nx",
        "outputId": "0e07d20e-56bb-41b2-f184-4ac8597207ea"
      },
      "execution_count": 16,
      "outputs": [
        {
          "output_type": "stream",
          "name": "stdout",
          "text": [
            "Nhập vào n 4\n",
            "Enter x1 3\n",
            "Enter x2 4\n",
            "Enter x3 -4\n",
            "Enter x4 -5\n",
            "Số nhỏ nhất trong mảng: -5\n",
            "Số lớn nhất trong mảng: 4\n",
            "Tổng giá trị phần tử trong mảng: -2\n",
            "Tổng số dương: 2\n",
            "Tổng số âm: 2\n"
          ]
        }
      ]
    },
    {
      "cell_type": "code",
      "source": [
        "n = int(input(\"Enter n\"));\n",
        "if(n < 0):\n",
        "  print(\"Số nhập vào không hợp lệ\")\n",
        "def S(n):\n",
        "  result = 0;\n",
        "  for i in range(n):\n",
        "    result = (i + 1) * S(i);\n",
        "  return print(str(result));\n",
        ""
      ],
      "metadata": {
        "colab": {
          "base_uri": "https://localhost:8080/"
        },
        "id": "8WL-ZcOCv15x",
        "outputId": "fcb92f9b-2a57-4e9e-8540-e3cdf023707c"
      },
      "execution_count": 26,
      "outputs": [
        {
          "name": "stdout",
          "output_type": "stream",
          "text": [
            "Enter n3\n"
          ]
        }
      ]
    }
  ]
}